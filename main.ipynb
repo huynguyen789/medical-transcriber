{
 "cells": [
  {
   "cell_type": "code",
   "execution_count": null,
   "metadata": {},
   "outputs": [],
   "source": [
    "import streamlit as st\n",
    "from st_audiorec import st_audiorec\n",
    "import whisper\n",
    "from pytube import YouTube\n",
    "\n",
    "\n",
    "\n",
    "# Initialize Streamlit app\n",
    "st.title(\"Doctor's Assistant\")\n",
    "\n",
    "\n",
    "# # Audio recording:\n",
    "# #######################################################\n",
    "# wav_audio_data = st_audiorec()\n",
    "\n",
    "# if wav_audio_data is not None:\n",
    "#     st.audio(wav_audio_data, format='audio/wav')\n",
    "# ######################################################\n",
    "\n",
    "\n",
    "# TRANSCRIPTION:\n",
    "#######################################################\n",
    "link = \"https://www.youtube.com/watch?v=pBEFZG1Fep8&ab_channel=ChickenGeniusSingapore\"\n",
    "stream = yt.streams.get_by_itag(140)\n",
    "stream.download('', 'audioFile.mp4')\n",
    "model = whisper.load_model('tiny.en')\n",
    "result = model.transcribe(\"audioFile.mp4\")\n",
    "text = result['text']\n",
    "st.write(text)\n",
    "#######################################################\n",
    "\n",
    "# Trigger transcription and summary\n",
    "if st.button('Generate Summary'):\n",
    "    # Simulate transcription (placeholder)\n",
    "    transcribed_text = recorded_text\n",
    "\n",
    "    # Simulate AI Processing: Generate a simple summary (placeholder)\n",
    "    summary = \"This is a simulated summary of the medical consultation.\"\n",
    "\n",
    "    # Display the transcribed text and generated summary\n",
    "    st.text_area(\"Transcribed Text:\", value=transcribed_text, height=200)\n",
    "    st.text_area(\"Summary:\", value=summary, height=100)\n"
   ]
  }
 ],
 "metadata": {
  "language_info": {
   "name": "python"
  },
  "orig_nbformat": 4
 },
 "nbformat": 4,
 "nbformat_minor": 2
}
