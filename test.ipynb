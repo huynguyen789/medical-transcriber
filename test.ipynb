{
 "cells": [
  {
   "cell_type": "code",
   "execution_count": null,
   "metadata": {},
   "outputs": [],
   "source": [
    "!pip install anthropic"
   ]
  },
  {
   "cell_type": "code",
   "execution_count": 35,
   "metadata": {},
   "outputs": [],
   "source": [
    "\n",
    "import textwrap\n",
    "def print_wrapped(text, width=80):\n",
    "    wrapped_text = textwrap.fill(text, width=width)\n",
    "    print(wrapped_text)\n",
    "    \n",
    "transcription = \"\"\" Hello Mr. Phillips, take a seat. Thank you. What seems to be the problem\n",
    "? I'm not feeling very well. I've got a terrible stomachache and I keep firing up. Have you had any\n",
    "diarrhea? No, I haven't. How long have you been feeling like this? Since late last night. Do you kno\n",
    "w if you were allergic to anything? No, not that I know of. What have you eaten recently? Well, my t\n",
    "wo children cooked dinner for my wife and me last night. It was that way in anniversary you see and\n",
    "they wanted to surprise us. It was a nice thought. What did you have? Well, I'm not sure what it was\n",
    "actually. Some sort of a seafood and pasta dish. It's been a long time cooking it so, you know, I f\n",
    "elt like I had to eat it. It wasn't very nice to be honest. My wife hardly ate any so I ate hers too\n",
    ". Okay, I think you've got food poisoning. And the best thing to do is to rest and don't eat anythin\n",
    "g for the next 24 hours. After that you can eat things like bread or rice, but no milk or cheese. Ri\n",
    "ght. And drink lots of water. Or black tea with a little sugar in. Okay. Do I need to make another a\n",
    "ppointment? No, I'm sure you'll be fine. But come back if you're not feeling better in two days. Tha\n",
    "nks a lot. And maybe tell your children that you want to go to a restaurant next year? Yeah, so good\n",
    "bye. Goodbye. \n",
    "\"\"\"\n",
    "real_conver1 = \"\"\" Perfect, but what? Perfect. Perfect. Yeah. And then when you done it, let me know. I did turn it of\n",
    "f. Okay. Yeah, thank you. So how's your breathing feeling? Good. Okay. Any shortness of breath at br\n",
    "eath? No. When I go to the gym, I do a half hour on the walking thing. Do you get short of breath wi\n",
    "th that? No. Very good. And then I've been biking at the house. I've bought a spin bike for my days.\n",
    " I don't go to the gym. And any cough or mucus? No. Any wheezing? No. Any chest tightness or pain? N\n",
    "o. Have you coughed up any blood? No. Not good. Any swelling in the ankles? No. Can you lay down fla\n",
    "t and tight or do you have to prop yourself up with pillows? No, I could lay down flat. Any fevers, \n",
    "jill, sweats? No. Do you ever feel like there's any acid coming back up? That I get. And I have to g\n",
    "et up and I take a couple of, I don't know what they are, anti acid pills or something. Like tons or\n",
    " something? Or are you taking the pantuppers off? Yes. Every night. And would you take that before b\n",
    "reakfast? I take that before breakfast, right? About a half hour or so or right before. Half hour. O\n",
    "h. So despite taking the pantuppers off, you're still having reflux. And I don't get that often. Oka\n",
    "y. It just seems like I think certain, like the age. So like with dietary and depression. The taste \n",
    "of that grease from the taste and things like that gets in me. But it's not steady. And any trouble \n",
    "following your food or drink? No. Any weight loss or loss of appetite? Well, I'm losing weight but I\n",
    " want to diet. So. How much did you lose? 11 pounds of fat. I'm going to gain it back when I go on t\n",
    "he cruise. That's my good visit. All right. And you're using your stilto two posts once a day in the\n",
    " morning? Yes, that I need to refill. A refill? Yeah. And how often do you need the pro air? I very \n",
    "rarely use it. And you're stilto on the carvatal all twice a day? Yes. Because you had the stent as \n",
    "I remember. Two stents. Yeah. Two stents. Yeah. It means non-selected data block for our car data bl\n",
    "ock. Okay. I asked my family doctor this question. He said to his suit, should I get the RSV shot? Y\n",
    "es, you should get the RSV shot without any question. Anybody over 60 with COPD should begin any. So\n",
    " you're 64 now. The only reason he punted. He says, it's so new. He says yes, doctor was. It's 94% e\n",
    "ffective in preventing RSV pneumonia. And it's not like the COVID, which only prevents you from goin\n",
    "g to the hospital. You can still get the disease. It's 94% effective for preventing you from getting\n",
    " the disease. That's good. So yes, it is recommended. Look at that, the flu shot and the new COVID s\n",
    "hot. So have you had the shingle shot? Yes. Good. Have you had the pneumonia shot? Both? Yep. So yea\n",
    "h, you'll be up to date then. Nice deep breath. Now you sound pretty good. All right, so I will send\n",
    " in your stiotto for you. Let me just make sure you don't need anything, but I don't think you do. T\n",
    "he PFT was May and shows moderate COPD, but it hasn't significantly changed from previous. If I, I t\n",
    "hink it's minor, but it might be, you know, every once in a while, I'll take three hits apart the sm\n",
    "oke. Is that dangerous? Yeah. So most of the time I take it, the, the gels. Right. So if you're goin\n",
    "g to take it, I would prefer you use edibles or the gels or that type of thing. Right. If it was onc\n",
    "e in a very infrequent amount of time, is it going to hurt you? No. But I still don't recommend it. \n",
    "So, you know, I mean, but I don't have an issue if you need to take the edibles where the gel. Is th\n",
    "ere a difference between the vape and the, like, the same? The vape is more inflammatory. Burning th\n",
    "e cigarette is more bad for you as far as your COPD. The pot. Yes. The marijuana cigarette. I don't \n",
    "know what's going to happen. They just diagnosed me with basal cell. Of course I know what. The nose\n",
    ". So I'm not. Every time I go to the doctor, they cut the esality. So I'm going to, in the whole mon\n",
    "th of October, I'm going to get the irradiation every other day. So I'm just saying, I don't know if\n",
    " I'm going to get nauseous or anything. Well, use the edibles. That's good for you. Yeah. You have a\n",
    " card, I guess, because you can get it. Yeah. Okay. I needed the card when the knee was... They run \n",
    "them. Do you need the nasal spray too? The futicosone? No, I have that. Okay. You know, this nose is\n",
    " starting to clog up on me. I'm saying maybe it could have beat the basal cell. Could be. Certainly.\n",
    " Because this nose always sides clear. This is where I had the basal cell, right, get it? Right. And\n",
    " it feels always a little quiet. Use the salt water spray. Okay. Just wash it out. All right. Keep o\n",
    "n the weight loss. That's very good. Stay active. Walk every day. Yeah, I do. Now I'll smell... And \n",
    "I didn't order anything except for sending in your steel cell. And I'll see you in four months. Okay\n",
    ". All right. Appreciate it. Thank you. Appreciate it. See you. Yeah.\"\"\"\n",
    "\n",
    "real_conver2 = \"\"\"So how does your breathing feel? Shorter breath when you're doing things \n",
    "or activity or good. So you can walk a couple blocks without being shorter breath. If you do get sho\n",
    "rter breath, then stop the rest to get better. Yeah, but what happens to me is my bigger problems is\n",
    " like my hips. My legs are bigger problems than my breathing is. Gotcha. That's where I have to stop\n",
    ". And I'm better in a couple of minutes. Sure. You know, like if I walk the public's, it's probably \n",
    "a quarter of a mile. Mm-hmm. And there's a Chinese place there. Now I'll stop at the Chinese place p\n",
    "lace by order. Go public. Stop at the Chinese place again. I'll come here for a moment. Pick up the \n",
    "food. We'll walk home. Any cough or mucus? Some. We'll call her some mucus. Not a battery. Sometimes\n",
    " it's pronounced. Sometimes it's yellowish. Ever have any blood in it? No. Any reason? No, not reall\n",
    "y. Sometimes you're going to sleep in, but it's because of the way I sleep. You know what I mean? I \n",
    "sleep on my side like this. Gotcha. Gotcha. Any heartburn? Any heartburn? Yeah. Sometimes. Do you ta\n",
    "ke anything for that? No. It's not all the time. It's a good track. But for years. Okay. On the top.\n",
    " What was up in the water? We'd gain, we'd stay. We'd stay. That was very, very good. And it filled \n",
    "between 70 and 95. So you'd go up and down? Yeah. No sustain. I don't know what I'm going to be. Any\n",
    " given time. Any trouble swallowing your food and drink? No. And the fevers, Joe, sweats? Everything\n",
    ". You know, a little bit of night sweats. I don't know what I'm going to be. You know what I figured\n",
    " out? They have a mattress couple. It's plastic. Oh yeah. Get the cloth one. And then I, if I had th\n",
    "e blankets over the end, let's sweat. If I don't use the blankets, just sleep under a sheet. You fol\n",
    "low me? Sure. I think it's physical around it. Any chest pain? Palpitations or fluttering in your ch\n",
    "est? You lay flat in bed? I sleep when you snap the people. Yeah, but not elevated. No swelling? No.\n",
    " No swelling? No. No swelling? You still smoking? Yes. What's up? The fevers. Average. And a week, l\n",
    "et's say? Two or three packs. Two or three packs a week? Yeah. I opened a pack like two days ago. An\n",
    "d it was like a seven-month time. You know what I mean? And it depends on what you're working. Yeah,\n",
    " I was down. So I cut my smoke on that. So you smoke when you work? That's, yeah, I drive. The reaso\n",
    "n I'm asking, that's when it's... What did you drive for? Tomos. Tomos, got you. The reason why I'm \n",
    "asking is your breathing test is not quite as good as it was. So you're getting a decline in lung fu\n",
    "nction. And it's related to the smoke. What do you mean that's not as good as it was? Well, when I c\n",
    "ompare your breathing test to 2022, about a year ago, you've lost the ability to blow out forcefully\n",
    ". And that's how we judge your lung function from year to year. We use something called the forced e\n",
    "xpiratory volume in one second. And that compares you to you, year to year, but you to everybody els\n",
    "e. And your height, age, weight category. So you have a little bit, nothing's... I'm not trying to s\n",
    "ay it's dramatic, but you were gold one before. Now you're gold two COPs, so you drop the full categ\n",
    "ory in your breathing. And that's just from the smoke. Nothing else. And that's in a year. And you'r\n",
    "e not even smoking that much. No, it's dairies. So what does that tell you? The most important thing\n",
    " for you at this moment is the quick-to-damn cigarettes. Because I don't want to be sitting here nex\n",
    "t year and say, oh no, we got a significant decline in lung function. And now you're starting to be \n",
    "symptomatic. That's life changing. I see your CT. Oh, this is laugh time. Okay, I documented this. D\n",
    "id they ever send you that stuff? They sent me a report. They did? Yeah. Because they called me up a\n",
    "nd told me to come and pick it up. That's a disc. They cannot send me a disc. A disc? No, I was righ\n",
    "t the disc here. Okay. But then they called me a couple of days later. To pick up the report? You st\n",
    "art this reading, come and pick it up. I'm not supposed to pick it up right then. I'm supposed to se\n",
    "nd it here. Yeah, they did send it here. They did send it here. Yes. Because that's what I told you \n",
    "to do. So quit smoking. You're at a point now where I would put you on a maintenance inhaler, but th\n",
    "at's up to you. I know you last time to see. Okay. I tried to inhaler during the breath test. It doe\n",
    "sn't make any difference. No, that was our beauty all. It's not what I'm talking about. It's a diffe\n",
    "rent inhaler. And then we'll follow up with... That's sure the breath. Okay. Like a seven-time legs \n",
    "of my hips. What does it mean? Maybe that's... Maybe that's bothering you before you get the short b\n",
    "reath from the smoke. But you've declined in lung function. I want you to understand that. Do you wa\n",
    "nt to call them? It's not like these cigarettes aren't doing nothing to you. They are. Especially be\n",
    "cause they're long to do your job. So this CAT scan was four, six or six months later. So the next t\n",
    "ime I see you, we're going to repeat a non-contrast CT scan. Yeah, I got to wait for the next year t\n",
    "o do it. Okay. Because they charge me like, maybe just a little bit. Did you get that twice a year? \n",
    "Oh, really? Yeah. Okay. So we're going to have to do it 125 to first time and then 200 and 70 second\n",
    "s. Okay. So I'll order for four months. That'll be after the first year. After the first year. Well,\n",
    " whenever they're first in here, as I don't know. What are they Chinese? No. No. So, yeah. No. They \n",
    "have different new years than us. They might. I don't know what they do. I'll order for January. But\n",
    " I know that it's not a problem. I usually don't when I get my physical. It's just like March or Apr\n",
    "il. And I'm doing it January. I don't want to wait for one for April. Something like that. And I'll \n",
    "see you in four months. And if you need anything, you call. All right. And thank you for this, Bob. \n",
    "And we'll talk. All right. Good. On the other side. That's it. All right. Take care. How are you, to\n",
    "o? Take care of those hips. You know, I had my hips done in the best decision I ever made. Best deci\n",
    "sion. Oh, like I said, if Bob is really going to climb the stairs, you know, block it far. Not going\n",
    " to block it. Okay. So, what about you? Got you. You know what I mean? Yeah. I'm not just going to d\n",
    "istance. And then, you know, every now and then, I'll go on the scars. I'll go on the blocks. The el\n",
    "ection will get better. So, gotcha. Over a period of mercy.\n",
    "\"\"\"\n",
    "text = \"\"\"  Thank you very much. Thank you. Are you having any shortness of breath? Yes. And when does that\n",
    " happen? At night when I sleep, lay down. Okay. And when you sit up, do you feel better? Yes. Is the\n",
    "re any swelling in your ankles? No. Any chest pain or palpitations? No. Do you ever wheeze\n",
    "? What is that? What are you wheeze? When you make a noise when you breathe out like... Oh. Yes. Oka\n",
    "y. \n",
    "\"\"\""
   ]
  },
  {
   "cell_type": "markdown",
   "metadata": {},
   "source": [
    "# Claude 2"
   ]
  },
  {
   "cell_type": "code",
   "execution_count": 53,
   "metadata": {},
   "outputs": [
    {
     "name": "stdout",
     "output_type": "stream",
     "text": [
      " Here is a summary and assessment for the doctor visit conversation:\n",
      "\n",
      "Summary: \n",
      "Mr. Phillips presented with severe stomachache and flatulence since last night after eating a seafood pasta dish cooked by his children for his anniversary dinner. He ate a large portion to be polite even though he did not enjoy it. He has no diarrhea. He denies any known food allergies. \n",
      "\n",
      "Assessments:\n",
      "- Foodborne intoxication - A05.9\n",
      "- Dyspepsia - K30\n",
      "\n",
      "Easy to read:\n",
      " Here is a summary and assessment for the doctor visit conversation:  Summary:\n",
      "Mr. Phillips presented with severe stomachache and flatulence since last night\n",
      "after eating a seafood pasta dish cooked by his children for his anniversary\n",
      "dinner. He ate a large portion to be polite even though he did not enjoy it. He\n",
      "has no diarrhea. He denies any known food allergies.   Assessments: - Foodborne\n",
      "intoxication - A05.9 - Dyspepsia - K30\n"
     ]
    }
   ],
   "source": [
    "!pip install Anthropic\n",
    "from anthropic import Anthropic, HUMAN_PROMPT, AI_PROMPT\n",
    "import config\n",
    "anthropic = Anthropic()\n",
    "anthropic.api_key = config.CLAUDE_API_KEY\n",
    "\n",
    "\n",
    "def claude_summary(text):\n",
    "    completion = anthropic.completions.create(\n",
    "        model=\"claude-2.0\", #claude-2.0 #claude-instant-1.2\n",
    "        max_tokens_to_sample=300,\n",
    "        temperature=0.01,\n",
    "        prompt=f\"\"\"\n",
    "        {HUMAN_PROMPT}Below is a doctor visit conversation. \n",
    "        First, summarize it in 3-5 sentences for doctor note, using medical terminology. It must be concise and include all the necessary details.\n",
    "        Second, create assessment(s) with associated ICD-10 diagnosis codes. Example: Intolerance issues - K52.2\n",
    "        \n",
    "        - Only show Summary and Assessments\n",
    "        - Summarize based exactly on the conversation, DO NOT add extra or remove information from the conversation.\n",
    "        - Always proofread your work. Make sure the info, medical terms and codes are correct.\n",
    "        \n",
    "        Content:\n",
    "        {text} \n",
    "        \n",
    "        {AI_PROMPT}:\"\"\",\n",
    "    )\n",
    "    return(completion.completion)\n",
    "\n",
    "def openai_summary(text):\n",
    "    pass\n",
    "\n",
    "summary = claude_summary(transcription)\n",
    "print(summary)\n",
    "\n",
    "print(\"\\nEasy to read:\")\n",
    "print_wrapped(summary)"
   ]
  },
  {
   "cell_type": "markdown",
   "metadata": {},
   "source": [
    "# Claude instant"
   ]
  },
  {
   "cell_type": "code",
   "execution_count": 75,
   "metadata": {},
   "outputs": [
    {
     "name": "stdout",
     "output_type": "stream",
     "text": [
      " Summary: \n",
      "A 57-year-old male presented with abdominal pain and nausea for over 12 hours. He reported eating a seafood and pasta dish cooked by his children the previous night for his anniversary. He consumed a large portion as his wife ate little. On examination, he denied diarrhea. Assessment was likely food poisoning from the undercooked seafood pasta meal. Treatment plan included fasting for 24 hours, slowly reintroducing bland foods, adequate hydration with water or black tea. Patient advised to return if no improvement in 48 hours. \n",
      "\n",
      "Assessments: \n",
      "1. Gastroenteritis - K52.9 \n",
      "2. Food poisoning - T63.81XA\n",
      "\n",
      "Easy to read:\n",
      " Summary:  A 57-year-old male presented with abdominal pain and nausea for over\n",
      "12 hours. He reported eating a seafood and pasta dish cooked by his children the\n",
      "previous night for his anniversary. He consumed a large portion as his wife ate\n",
      "little. On examination, he denied diarrhea. Assessment was likely food poisoning\n",
      "from the undercooked seafood pasta meal. Treatment plan included fasting for 24\n",
      "hours, slowly reintroducing bland foods, adequate hydration with water or black\n",
      "tea. Patient advised to return if no improvement in 48 hours.   Assessments:  1.\n",
      "Gastroenteritis - K52.9  2. Food poisoning - T63.81XA\n"
     ]
    }
   ],
   "source": [
    "from anthropic import Anthropic, HUMAN_PROMPT, AI_PROMPT\n",
    "import config\n",
    "anthropic = Anthropic()\n",
    "anthropic.api_key = config.CLAUDE_API_KEY\n",
    "\n",
    "\n",
    "def claude_summary(text):\n",
    "    completion = anthropic.completions.create(\n",
    "        model=\"claude-instant-1.2\", #claude-2.0 #claude-instant-1.2\n",
    "        max_tokens_to_sample=300,\n",
    "        temperature=0.01,\n",
    "        prompt=f\"\"\"\n",
    "        {HUMAN_PROMPT}Below is a doctor visit conversation. \n",
    "        First, summarize it in 3-5 sentences for doctor note, using medical terminology. It must be concise and include all the necessary details.\n",
    "        Second, create assessment(s) with associated ICD-10 diagnosis codes. Example: Intolerance issues - K52.2\n",
    "        \n",
    "        - Only show Summary and Assessments\n",
    "        - Summarize based exactly on the conversation, DO NOT add extra or remove information from the conversation.\n",
    "        - Always proofread your work. Make sure the info, medical terms and codes are correct.\n",
    "        \n",
    "        Content:\n",
    "        {text} \n",
    "        \n",
    "        {AI_PROMPT}:\"\"\",\n",
    "    )\n",
    "    return(completion.completion)\n",
    "\n",
    "def openai_summary(text):\n",
    "    pass\n",
    "\n",
    "summary = claude_summary(transcription)\n",
    "print(summary)\n",
    "\n",
    "print(\"\\nEasy to read:\")\n",
    "print_wrapped(summary)"
   ]
  },
  {
   "cell_type": "markdown",
   "metadata": {},
   "source": [
    "# Openai"
   ]
  },
  {
   "cell_type": "code",
   "execution_count": 138,
   "metadata": {},
   "outputs": [
    {
     "name": "stdout",
     "output_type": "stream",
     "text": [
      "Summary for doctor note:\n",
      "Patient presents with symptoms of stomachache and vomiting since late last night. Denies diarrhea. Reports consuming a seafood and pasta dish prepared by his children for their anniversary. Suspected diagnosis of food poisoning. Advised to rest and avoid eating for the next 24 hours, followed by a diet of bread or rice without milk or cheese. Instructed to drink plenty of water or black tea with sugar. Follow-up appointment not necessary unless symptoms persist after two days.\n",
      "\n",
      "Assessment:\n",
      "1. Food poisoning - T62.0X1A\n",
      "2. Gastroenteritis, unspecified - K52.9\n"
     ]
    }
   ],
   "source": [
    "# !pip install -q openai\n",
    "import openai\n",
    "import config\n",
    "import os\n",
    "from dotenv import load_dotenv \n",
    "\n",
    "openai.api_key =  os.getenv(\"OPENAI_API_KEY\")\n",
    "\n",
    "system_prompt = \"\"\"\n",
    "You are a world-class medical transcriptionist. \n",
    "You listen to the conversation carefully and pay close attention to details.\n",
    "Info must be accurate! DO NOT add extra or remove information from the conversation.\n",
    "\"\"\"\n",
    "general_prompt = \"\"\"\n",
    "This is a doctor visit conversation.\n",
    "First, summarize it in 3-5 sentences for doctor note, using medical terminology.\n",
    "Second, create assessment(s) with associated ICD-10 diagnosis codes. Example: Intolerance issues - K52.2\n",
    "\"\"\"\n",
    "\n",
    "def response(text):\n",
    "    completion = openai.ChatCompletion.create(\n",
    "    model=\"gpt-3.5-turbo-16k\",\n",
    "    messages=[\n",
    "        {\"role\": \"system\", \"content\": system_prompt},\n",
    "        {\"role\": \"user\", \"content\": general_prompt + text}\n",
    "    ],\n",
    "    temperature=0.01,\n",
    "    max_tokens=200\n",
    "    )\n",
    "    \n",
    "    return completion\n",
    "\n",
    "response = response(transcription)\n",
    "print(response['choices'][0]['message']['content'])\n"
   ]
  },
  {
   "cell_type": "markdown",
   "metadata": {},
   "source": [
    "# nous-hermes-13b \n"
   ]
  },
  {
   "cell_type": "code",
   "execution_count": null,
   "metadata": {},
   "outputs": [],
   "source": [
    "# !pip install gpt4all\n",
    "from gpt4all import GPT4All\n",
    "model = GPT4All(\"/Users/huyknguyen/projects/medical-transcriber/models/nous-hermes-13b.ggmlv3.q4_0.bin\")\n",
    "import textwrap\n",
    "\n",
    "\n",
    "    "
   ]
  },
  {
   "cell_type": "code",
   "execution_count": 121,
   "metadata": {},
   "outputs": [
    {
     "name": "stdout",
     "output_type": "stream",
     "text": [
      "Content:Did you come up with this? Hello Mr. Phillips, take a seat. Thank you. What seems to be the problem\n",
      "? I'm not feeling very well. I've got a terrible stomachache and I keep firing up. Have you had any\n",
      "diarrhea? No, I haven't. How long have you been feeling like this? Since late last night. Do you kno\n",
      "w if you were allergic to anything? No, not that I know of. What have you eaten recently? Well, my t\n",
      "wo children cooked dinner for my wife and me last night. It was that way in anniversary you see and\n",
      "they wanted to surprise us. It was a nice thought. What did you have? Well, I'm not sure what it was\n",
      "actually. Some sort of a seafood and pasta dish. It's been a long time cooking it so, you know, I f\n",
      "elt like I had to eat it. It wasn't very nice to be honest. My wife hardly ate any so I ate hers too\n",
      ". Okay, I think you've got food poisoning. And the best thing to do is to rest and don't eat anythin\n",
      "g for the next 24 hours. After that you can eat things like bread or rice, but no milk or cheese. Ri\n",
      "ght. And drink lots of water. Or black tea with a little sugar in. Okay. Do I need to make another a\n",
      "ppointment? No, I'm sure you'll be fine. But come back if you're not feeling better in two days. Tha\n",
      "nks a lot. And maybe tell your children that you want to go to a restaurant next year? Yeah, so good\n",
      "bye. Goodbye. Okay, so that light, an example, if you talk to a patient, right?\n",
      "\n",
      ". Instruction:\n",
      "Above is a doctor visit conversation. Information accuracy is EXTREMELY IMPORTANT. DO NOT add extra or remove information from the conversation.\n",
      "        First, summarize it in 3-5 sentences for doctor note, using medical terminology.\n",
      "        Second, create assessment(s) with associated ICD-10 diagnosis codes. Example: Intolerance issues - K52.2\n",
      ".\n",
      "\n",
      "Doctor Visit Summary: The patient has been experiencing severe stomach pain and\n",
      "diarrhea since last night, possibly due to food poisoning from a seafood pasta\n",
      "dish consumed on their anniversary. They were advised to rest and avoid eating\n",
      "for 24 hours while consuming bland foods like bread or rice after that time. The\n",
      "patient was also instructed to drink plenty of water or black tea with sugar. No\n",
      "further appointments are necessary unless symptoms persist beyond two days.\n",
      "Assessment: The patient presents with acute gastroenteritis - K50.9, possibly\n",
      "due to ingestion of contaminated food - T84.21XA.\n",
      "\n",
      "Easy to read:\n",
      " Here is a 3-5 sentence summary of the doctor visit conversation using medical\n",
      "terminology:  The patient presents with nocturnal dyspnea that is relieved when\n",
      "sitting up. There is no orthopnea, chest pain, palpitations, or peripheral edema\n",
      "reported. The patient experiences wheezing on expiration.  Assessments with\n",
      "ICD-10 codes:  - Nocturnal dyspnea - R06.02 - Expiratory wheezing - R06.2\n"
     ]
    }
   ],
   "source": [
    "general_prompt = \"\"\"\n",
    "Above is a doctor visit conversation. Information accuracy is EXTREMELY IMPORTANT. DO NOT add extra or remove information from the conversation.\n",
    "First, summarize it in 3-5 sentences for doctor note, using medical terminology.\n",
    "Second, create assessment(s) with associated ICD-10 diagnosis codes. Example: Intolerance issues - K52.2\n",
    "\"\"\"\n",
    "print(f\"Content:{transcription}\\n. Instruction:{general_prompt}.\\n\")\n",
    "\n",
    "\n",
    "output = model.generate(f\"Content:{transcription}. INSTRUCTION:{general_prompt}. RESPONSE:\", max_tokens=500)\n",
    "print(\"\\n\\n\")\n",
    "print_wrapped(output)\n",
    "print(\"\\nEasy to read:\")\n",
    "print_wrapped(summary)\n",
    "\n"
   ]
  },
  {
   "cell_type": "markdown",
   "metadata": {},
   "source": [
    "# Snoozy model"
   ]
  },
  {
   "cell_type": "code",
   "execution_count": null,
   "metadata": {},
   "outputs": [],
   "source": [
    "# !pip install gpt4all\n",
    "from gpt4all import GPT4All\n",
    "model = GPT4All(\"/Users/huyknguyen/projects/medical-transcriber/models/GPT4All-13B-snoozy.ggmlv3.q4_0.bin\")\n"
   ]
  },
  {
   "cell_type": "code",
   "execution_count": null,
   "metadata": {},
   "outputs": [],
   "source": [
    "general_prompt = \"\"\"\n",
    "Above is a doctor visit conversation. Information accuracy is EXTREMELY IMPORTANT. DO NOT add extra or remove information from the conversation.\n",
    "First, summarize it in 3-5 sentences for doctor note, using medical terminology.\n",
    "Second, create assessment(s) with associated ICD-10 diagnosis codes. Example: Intolerance issues - K52.2\n",
    "\"\"\"\n",
    "print(f\"Content:{transcription}\\n. Instruction:{general_prompt}.\\n\")\n",
    "\n",
    "\n",
    "output = model.generate(f\"Content:{transcription}. INSTRUCTION:{general_prompt}. RESPONSE:\", max_tokens=500)\n",
    "print(\"\\n\\n\")\n",
    "print_wrapped(output)\n",
    "print(\"\\nEasy to read:\")\n",
    "print_wrapped(summary)\n",
    "\n"
   ]
  },
  {
   "cell_type": "markdown",
   "metadata": {},
   "source": [
    "# Llama3 7b chat\n"
   ]
  },
  {
   "cell_type": "code",
   "execution_count": null,
   "metadata": {},
   "outputs": [],
   "source": [
    "!pip install gpt4all"
   ]
  },
  {
   "cell_type": "code",
   "execution_count": null,
   "metadata": {},
   "outputs": [],
   "source": [
    "# !pip install gpt4all\n",
    "def print_wrapped(text, width=80):\n",
    "    wrapped_text = textwrap.fill(text, width=width)\n",
    "    print(wrapped_text)\n",
    "    \n",
    "transcription = \"\"\" Hello Mr. Phillips, take a seat. Thank you. What seems to be the problem\n",
    "? I'm not feeling very well. I've got a terrible stomachache and I keep firing up. Have you had any\n",
    "diarrhea? No, I haven't. How long have you been feeling like this? Since late last night. Do you kno\n",
    "w if you were allergic to anything? No, not that I know of. What have you eaten recently? Well, my t\n",
    "wo children cooked dinner for my wife and me last night. It was that way in anniversary you see and\n",
    "they wanted to surprise us. It was a nice thought. What did you have? Well, I'm not sure what it was\n",
    "actually. Some sort of a seafood and pasta dish. It's been a long time cooking it so, you know, I f\n",
    "elt like I had to eat it. It wasn't very nice to be honest. My wife hardly ate any so I ate hers too\n",
    ". Okay, I think you've got food poisoning. And the best thing to do is to rest and don't eat anythin\n",
    "g for the next 24 hours. After that you can eat things like bread or rice, but no milk or cheese. Ri\n",
    "ght. And drink lots of water. Or black tea with a little sugar in. Okay. Do I need to make another a\n",
    "ppointment? No, I'm sure you'll be fine. But come back if you're not feeling better in two days. Tha\n",
    "nks a lot. And maybe tell your children that you want to go to a restaurant next year? Yeah, so good\n",
    "bye. Goodbye. \n",
    "\"\"\"\n",
    "\n",
    "from gpt4all import GPT4All\n",
    "model = GPT4All(\"/Users/huyknguyen/projects/medical-transcriber/models/llama-2-7b-chat.ggmlv3.q4_0.bin\")\n",
    "\n",
    "\n"
   ]
  },
  {
   "cell_type": "code",
   "execution_count": null,
   "metadata": {},
   "outputs": [],
   "source": [
    "general_prompt = \"\"\"\n",
    "Above is a doctor visit conversation. Information accuracy is EXTREMELY IMPORTANT. DO NOT add extra or remove information from the conversation.\n",
    "First, summarize it in 3-5 sentences for doctor note, using medical terminology.\n",
    "Second, create assessment(s) with associated ICD-10 diagnosis codes. Example: Intolerance issues - K52.2\n",
    "\"\"\"\n",
    "print(f\"Content:{transcription}\\n. Instruction:{general_prompt}.\\n\")\n",
    "\n",
    "\n",
    "output = model.generate(f\"Content:{transcription}. INSTRUCTION:{general_prompt}. RESPONSE:\", max_tokens=500)\n",
    "print(\"\\n\\n\")\n",
    "print(output)\n",
    "print(\"\\nEasy to read:\")\n",
    "print_wrapped(output)\n",
    "\n"
   ]
  },
  {
   "cell_type": "code",
   "execution_count": 29,
   "metadata": {},
   "outputs": [
    {
     "name": "stdout",
     "output_type": "stream",
     "text": [
      "\n",
      "\n",
      "\n",
      "\n",
      "Summary: Mr. Phillips presented to the clinic complaining of a stomachache and diarrhea after consuming food poisoning from his children's cooking. The doctor diagnosed him with food poisoning and advised rest, hydration, and avoidance of milk or cheese for 24 hours before gradually introducing other foods into his diet.\n",
      "Assessment: Foodborne illness - A01.9 (unspecified)\n",
      "ICD-10 diagnosis code: A01.9\n",
      " .\n",
      "\n",
      "Easy to read:\n",
      " Summary: Mr. Phillips presented to the clinic complaining of a stomachache and\n",
      "diarrhea after consuming food poisoning from his children's cooking. The doctor\n",
      "diagnosed him with food poisoning and advised rest, hydration, and avoidance of\n",
      "milk or cheese for 24 hours before gradually introducing other foods into his\n",
      "diet. Assessment: Foodborne illness - A01.9 (unspecified) ICD-10 diagnosis code:\n",
      "A01.9  .\n"
     ]
    }
   ],
   "source": [
    "# With prompt engineer:\n",
    "general_prompt = \"\"\"\n",
    "- First, summarize it in 3-5 sentences for doctor note, using medical terminology.\n",
    "- Second, based on the summary, create assessment(s) with associated ICD-10 diagnosis codes. Example: Intolerance issues - K52.2\n",
    "\"\"\"\n",
    "\n",
    "system_prompt = \"\"\"\n",
    "<<SYS>> You are a world-class medical transcriptionist. \n",
    "- Information accuracy is EXTREMELY IMPORTANT. DO NOT add extra or remove information from the conversation.\n",
    "- Output in a professional and easy to read format.\n",
    "<</SYS>>.\n",
    "\"\"\"\n",
    "\n",
    "# print(f\" {system_prompt} Content:{transcription}. Prompt:{general_prompt}. RESPONSE:\")\n",
    "\n",
    "output = model.generate(f\" {system_prompt} Content:{transcription}. Prompt:{general_prompt}. RESPONSE:\", max_tokens=250)\n",
    "\n",
    "\n",
    "\n",
    "print(\"\\n\\n\")\n",
    "print(output)\n",
    "print(\"\\nEasy to read:\")\n",
    "print_wrapped(output)\n"
   ]
  },
  {
   "cell_type": "markdown",
   "metadata": {},
   "source": [
    "# WizardLM"
   ]
  },
  {
   "cell_type": "code",
   "execution_count": null,
   "metadata": {},
   "outputs": [],
   "source": [
    "from gpt4all import GPT4All\n",
    "model = GPT4All(\"/Users/huyknguyen/projects/medical-transcriber/models/wizardLM-13B-Uncensored.ggmlv3.q4_0.bin\")\n"
   ]
  },
  {
   "cell_type": "code",
   "execution_count": 34,
   "metadata": {},
   "outputs": [
    {
     "name": "stdout",
     "output_type": "stream",
     "text": [
      "\n",
      "\n",
      "\n",
      "SUMMARY: The patient presents with a history of COPD and basal cell carcinoma. They are currently using stilto two posts once daily and taking the pantuppers off at night, but still experience reflux. Despite this, they have lost 11 pounds of fat and are using their stilto on the carvatal all twice a day. The patient is also scheduled for irradiation therapy for basal cell carcinoma in October.\n",
      "ASSESSMENT: \n",
      "- COPD with moderate severity - J44.01\n",
      "- Basal cell carcinoma - K52.2\n",
      "- Reflux - K31.89\n",
      "- Weight loss - R78.6\n",
      "\n",
      "Easy to read:\n",
      "SUMMARY: The patient presents with a history of COPD and basal cell carcinoma.\n",
      "They are currently using stilto two posts once daily and taking the pantuppers\n",
      "off at night, but still experience reflux. Despite this, they have lost 11\n",
      "pounds of fat and are using their stilto on the carvatal all twice a day. The\n",
      "patient is also scheduled for irradiation therapy for basal cell carcinoma in\n",
      "October. ASSESSMENT:  - COPD with moderate severity - J44.01 - Basal cell\n",
      "carcinoma - K52.2 - Reflux - K31.89 - Weight loss - R78.6\n"
     ]
    }
   ],
   "source": [
    "output = model.generate(f\" {system_prompt} Content:{real_conver1}. Prompt:{general_prompt}. RESPONSE:\", max_tokens=250)\n",
    "print(\"\\n\\n\")\n",
    "print(output)\n",
    "print(\"\\nEasy to read:\")\n",
    "print_wrapped(output)"
   ]
  },
  {
   "cell_type": "code",
   "execution_count": 36,
   "metadata": {},
   "outputs": [
    {
     "name": "stdout",
     "output_type": "stream",
     "text": [
      "\n",
      "\n",
      "\n",
      "ERROR: The prompt size exceeds the context window size and cannot be processed.\n",
      "\n",
      "Easy to read:\n",
      "ERROR: The prompt size exceeds the context window size and cannot be processed.\n"
     ]
    },
    {
     "name": "stderr",
     "output_type": "stream",
     "text": [
      "LLaMA ERROR: The prompt is 2098 tokens and the context window is 2048!\n"
     ]
    }
   ],
   "source": [
    "output = model.generate(f\" {system_prompt} Content:{real_conver2}. Prompt:{general_prompt}. RESPONSE:\", max_tokens=250)\n",
    "print(\"\\n\\n\")\n",
    "print(output)\n",
    "print(\"\\nEasy to read:\")\n",
    "print_wrapped(output)"
   ]
  },
  {
   "cell_type": "code",
   "execution_count": 32,
   "metadata": {},
   "outputs": [
    {
     "name": "stdout",
     "output_type": "stream",
     "text": [
      "\n",
      "\n",
      "\n",
      "\n",
      "Summary: The patient presented with symptoms of food poisoning including stomach pain and diarrhea. He had recently consumed a seafood and pasta dish prepared by his children for their parents' anniversary. The patient was advised to rest and avoid eating anything for 24 hours, followed by a gradual return to solid foods such as bread or rice with no milk or cheese. He was also instructed to drink plenty of water or black tea with sugar.\n",
      "Assessment: \n",
      "1. Acute gastroenteritis - K50.9\n",
      "2. Food poisoning - K52.2\n",
      "3. Dehydration - K67.8\n",
      "\n",
      "Easy to read:\n",
      " Summary: The patient presented with symptoms of food poisoning including\n",
      "stomach pain and diarrhea. He had recently consumed a seafood and pasta dish\n",
      "prepared by his children for their parents' anniversary. The patient was advised\n",
      "to rest and avoid eating anything for 24 hours, followed by a gradual return to\n",
      "solid foods such as bread or rice with no milk or cheese. He was also instructed\n",
      "to drink plenty of water or black tea with sugar. Assessment:  1. Acute\n",
      "gastroenteritis - K50.9 2. Food poisoning - K52.2 3. Dehydration - K67.8\n"
     ]
    }
   ],
   "source": [
    "print(\"\\n\\n\")\n",
    "print(output)\n",
    "print(\"\\nEasy to read:\")\n",
    "print_wrapped(output)"
   ]
  },
  {
   "cell_type": "markdown",
   "metadata": {},
   "source": [
    "# Huggingface Models"
   ]
  }
 ],
 "metadata": {
  "kernelspec": {
   "display_name": "medical",
   "language": "python",
   "name": "python3"
  },
  "language_info": {
   "codemirror_mode": {
    "name": "ipython",
    "version": 3
   },
   "file_extension": ".py",
   "mimetype": "text/x-python",
   "name": "python",
   "nbconvert_exporter": "python",
   "pygments_lexer": "ipython3",
   "version": "3.11.3"
  },
  "orig_nbformat": 4
 },
 "nbformat": 4,
 "nbformat_minor": 2
}
