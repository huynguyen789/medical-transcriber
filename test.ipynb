{
 "cells": [
  {
   "cell_type": "code",
   "execution_count": 4,
   "metadata": {},
   "outputs": [
    {
     "name": "stdout",
     "output_type": "stream",
     "text": [
      "Collecting anthropic\n",
      "  Obtaining dependency information for anthropic from https://files.pythonhosted.org/packages/a3/49/82b0d809bb27856474499cb483821fe0537298ea0cf908e372825effd8e8/anthropic-0.3.11-py3-none-any.whl.metadata\n",
      "  Using cached anthropic-0.3.11-py3-none-any.whl.metadata (11 kB)\n",
      "Collecting anyio<4,>=3.5.0 (from anthropic)\n",
      "  Obtaining dependency information for anyio<4,>=3.5.0 from https://files.pythonhosted.org/packages/19/24/44299477fe7dcc9cb58d0a57d5a7588d6af2ff403fdd2d47a246c91a3246/anyio-3.7.1-py3-none-any.whl.metadata\n",
      "  Using cached anyio-3.7.1-py3-none-any.whl.metadata (4.7 kB)\n",
      "Collecting distro<2,>=1.7.0 (from anthropic)\n",
      "  Using cached distro-1.8.0-py3-none-any.whl (20 kB)\n",
      "Collecting httpx<1,>=0.23.0 (from anthropic)\n",
      "  Obtaining dependency information for httpx<1,>=0.23.0 from https://files.pythonhosted.org/packages/33/0d/d9ce469af019741c8999711d36b270ff992ceb1a0293f73f9f34fdf131e9/httpx-0.25.0-py3-none-any.whl.metadata\n",
      "  Using cached httpx-0.25.0-py3-none-any.whl.metadata (7.6 kB)\n",
      "Collecting pydantic<3,>=1.9.0 (from anthropic)\n",
      "  Obtaining dependency information for pydantic<3,>=1.9.0 from https://files.pythonhosted.org/packages/82/06/fafdc75e48b248eff364b4249af4bcc6952225e8f20e8205820afc66e88e/pydantic-2.3.0-py3-none-any.whl.metadata\n",
      "  Using cached pydantic-2.3.0-py3-none-any.whl.metadata (148 kB)\n",
      "Collecting tokenizers>=0.13.0 (from anthropic)\n",
      "  Obtaining dependency information for tokenizers>=0.13.0 from https://files.pythonhosted.org/packages/43/74/047b53ff340fb08b8de55f5d07f1957260399b734072d8710d1d03279cef/tokenizers-0.14.0-cp38-cp38-macosx_11_0_arm64.whl.metadata\n",
      "  Downloading tokenizers-0.14.0-cp38-cp38-macosx_11_0_arm64.whl.metadata (6.7 kB)\n",
      "Requirement already satisfied: typing-extensions<5,>=4.5 in /Users/huyknguyen/anaconda3/envs/medical/lib/python3.8/site-packages (from anthropic) (4.7.1)\n",
      "Collecting idna>=2.8 (from anyio<4,>=3.5.0->anthropic)\n",
      "  Using cached idna-3.4-py3-none-any.whl (61 kB)\n",
      "Collecting sniffio>=1.1 (from anyio<4,>=3.5.0->anthropic)\n",
      "  Using cached sniffio-1.3.0-py3-none-any.whl (10 kB)\n",
      "Collecting exceptiongroup (from anyio<4,>=3.5.0->anthropic)\n",
      "  Obtaining dependency information for exceptiongroup from https://files.pythonhosted.org/packages/ad/83/b71e58666f156a39fb29417e4c8ca4bc7400c0dd4ed9e8842ab54dc8c344/exceptiongroup-1.1.3-py3-none-any.whl.metadata\n",
      "  Downloading exceptiongroup-1.1.3-py3-none-any.whl.metadata (6.1 kB)\n",
      "Collecting certifi (from httpx<1,>=0.23.0->anthropic)\n",
      "  Obtaining dependency information for certifi from https://files.pythonhosted.org/packages/4c/dd/2234eab22353ffc7d94e8d13177aaa050113286e93e7b40eae01fbf7c3d9/certifi-2023.7.22-py3-none-any.whl.metadata\n",
      "  Using cached certifi-2023.7.22-py3-none-any.whl.metadata (2.2 kB)\n",
      "Collecting httpcore<0.19.0,>=0.18.0 (from httpx<1,>=0.23.0->anthropic)\n",
      "  Obtaining dependency information for httpcore<0.19.0,>=0.18.0 from https://files.pythonhosted.org/packages/ac/97/724afbb7925339f6214bf1fdb5714d1a462690466832bf8fb3fd497649f1/httpcore-0.18.0-py3-none-any.whl.metadata\n",
      "  Using cached httpcore-0.18.0-py3-none-any.whl.metadata (18 kB)\n",
      "Collecting annotated-types>=0.4.0 (from pydantic<3,>=1.9.0->anthropic)\n",
      "  Obtaining dependency information for annotated-types>=0.4.0 from https://files.pythonhosted.org/packages/d8/f0/a2ee543a96cc624c35a9086f39b1ed2aa403c6d355dfe47a11ee5c64a164/annotated_types-0.5.0-py3-none-any.whl.metadata\n",
      "  Using cached annotated_types-0.5.0-py3-none-any.whl.metadata (11 kB)\n",
      "Collecting pydantic-core==2.6.3 (from pydantic<3,>=1.9.0->anthropic)\n",
      "  Obtaining dependency information for pydantic-core==2.6.3 from https://files.pythonhosted.org/packages/2d/81/bb038964f84f8a6b5abda2cb57afd2240731b313663ceeae9b7edb150863/pydantic_core-2.6.3-cp38-cp38-macosx_11_0_arm64.whl.metadata\n",
      "  Downloading pydantic_core-2.6.3-cp38-cp38-macosx_11_0_arm64.whl.metadata (6.5 kB)\n",
      "Collecting huggingface_hub<0.17,>=0.16.4 (from tokenizers>=0.13.0->anthropic)\n",
      "  Obtaining dependency information for huggingface_hub<0.17,>=0.16.4 from https://files.pythonhosted.org/packages/7f/c4/adcbe9a696c135578cabcbdd7331332daad4d49b7c43688bc2d36b3a47d2/huggingface_hub-0.16.4-py3-none-any.whl.metadata\n",
      "  Using cached huggingface_hub-0.16.4-py3-none-any.whl.metadata (12 kB)\n",
      "Collecting h11<0.15,>=0.13 (from httpcore<0.19.0,>=0.18.0->httpx<1,>=0.23.0->anthropic)\n",
      "  Using cached h11-0.14.0-py3-none-any.whl (58 kB)\n",
      "Collecting filelock (from huggingface_hub<0.17,>=0.16.4->tokenizers>=0.13.0->anthropic)\n",
      "  Obtaining dependency information for filelock from https://files.pythonhosted.org/packages/5e/5d/97afbafd9d584ff1b45fcb354a479a3609bd97f912f8f1f6c563cb1fae21/filelock-3.12.4-py3-none-any.whl.metadata\n",
      "  Downloading filelock-3.12.4-py3-none-any.whl.metadata (2.8 kB)\n",
      "Collecting fsspec (from huggingface_hub<0.17,>=0.16.4->tokenizers>=0.13.0->anthropic)\n",
      "  Obtaining dependency information for fsspec from https://files.pythonhosted.org/packages/3a/9f/b40e8e5be886143379000af5fc0c675352d59e82fd869d24bf784161dc77/fsspec-2023.9.0-py3-none-any.whl.metadata\n",
      "  Using cached fsspec-2023.9.0-py3-none-any.whl.metadata (6.7 kB)\n",
      "Collecting requests (from huggingface_hub<0.17,>=0.16.4->tokenizers>=0.13.0->anthropic)\n",
      "  Obtaining dependency information for requests from https://files.pythonhosted.org/packages/70/8e/0e2d847013cb52cd35b38c009bb167a1a26b2ce6cd6965bf26b47bc0bf44/requests-2.31.0-py3-none-any.whl.metadata\n",
      "  Using cached requests-2.31.0-py3-none-any.whl.metadata (4.6 kB)\n",
      "Collecting tqdm>=4.42.1 (from huggingface_hub<0.17,>=0.16.4->tokenizers>=0.13.0->anthropic)\n",
      "  Obtaining dependency information for tqdm>=4.42.1 from https://files.pythonhosted.org/packages/00/e5/f12a80907d0884e6dff9c16d0c0114d81b8cd07dc3ae54c5e962cc83037e/tqdm-4.66.1-py3-none-any.whl.metadata\n",
      "  Using cached tqdm-4.66.1-py3-none-any.whl.metadata (57 kB)\n",
      "Collecting pyyaml>=5.1 (from huggingface_hub<0.17,>=0.16.4->tokenizers>=0.13.0->anthropic)\n",
      "  Downloading PyYAML-6.0.1.tar.gz (125 kB)\n",
      "\u001b[2K     \u001b[90m━━━━━━━━━━━━━━━━━━━━━━━━━━━━━━━━━━━━━━━\u001b[0m \u001b[32m125.2/125.2 kB\u001b[0m \u001b[31m6.5 MB/s\u001b[0m eta \u001b[36m0:00:00\u001b[0m\n",
      "\u001b[?25h  Installing build dependencies ... \u001b[?25ldone\n",
      "\u001b[?25h  Getting requirements to build wheel ... \u001b[?25ldone\n",
      "\u001b[?25h  Preparing metadata (pyproject.toml) ... \u001b[?25ldone\n",
      "\u001b[?25hRequirement already satisfied: packaging>=20.9 in /Users/huyknguyen/anaconda3/envs/medical/lib/python3.8/site-packages (from huggingface_hub<0.17,>=0.16.4->tokenizers>=0.13.0->anthropic) (23.1)\n",
      "Collecting charset-normalizer<4,>=2 (from requests->huggingface_hub<0.17,>=0.16.4->tokenizers>=0.13.0->anthropic)\n",
      "  Obtaining dependency information for charset-normalizer<4,>=2 from https://files.pythonhosted.org/packages/9c/71/bf12b8e0d6e1d84ed29c3e16ea1efc47ae96487bde823130d12139c434a0/charset_normalizer-3.2.0-cp38-cp38-macosx_11_0_arm64.whl.metadata\n",
      "  Downloading charset_normalizer-3.2.0-cp38-cp38-macosx_11_0_arm64.whl.metadata (31 kB)\n",
      "Collecting urllib3<3,>=1.21.1 (from requests->huggingface_hub<0.17,>=0.16.4->tokenizers>=0.13.0->anthropic)\n",
      "  Obtaining dependency information for urllib3<3,>=1.21.1 from https://files.pythonhosted.org/packages/9b/81/62fd61001fa4b9d0df6e31d47ff49cfa9de4af03adecf339c7bc30656b37/urllib3-2.0.4-py3-none-any.whl.metadata\n",
      "  Using cached urllib3-2.0.4-py3-none-any.whl.metadata (6.6 kB)\n",
      "Using cached anthropic-0.3.11-py3-none-any.whl (796 kB)\n",
      "Using cached anyio-3.7.1-py3-none-any.whl (80 kB)\n",
      "Using cached httpx-0.25.0-py3-none-any.whl (75 kB)\n",
      "Using cached pydantic-2.3.0-py3-none-any.whl (374 kB)\n",
      "Downloading pydantic_core-2.6.3-cp38-cp38-macosx_11_0_arm64.whl (1.6 MB)\n",
      "\u001b[2K   \u001b[90m━━━━━━━━━━━━━━━━━━━━━━━━━━━━━━━━━━━━━━━━\u001b[0m \u001b[32m1.6/1.6 MB\u001b[0m \u001b[31m43.1 MB/s\u001b[0m eta \u001b[36m0:00:00\u001b[0m\n",
      "\u001b[?25hDownloading tokenizers-0.14.0-cp38-cp38-macosx_11_0_arm64.whl (2.5 MB)\n",
      "\u001b[2K   \u001b[90m━━━━━━━━━━━━━━━━━━━━━━━━━━━━━━━━━━━━━━━━\u001b[0m \u001b[32m2.5/2.5 MB\u001b[0m \u001b[31m31.7 MB/s\u001b[0m eta \u001b[36m0:00:00\u001b[0m00:01\u001b[0m00:01\u001b[0m\n",
      "\u001b[?25hUsing cached annotated_types-0.5.0-py3-none-any.whl (11 kB)\n",
      "Using cached httpcore-0.18.0-py3-none-any.whl (76 kB)\n",
      "Using cached huggingface_hub-0.16.4-py3-none-any.whl (268 kB)\n",
      "Using cached certifi-2023.7.22-py3-none-any.whl (158 kB)\n",
      "Downloading exceptiongroup-1.1.3-py3-none-any.whl (14 kB)\n",
      "Using cached tqdm-4.66.1-py3-none-any.whl (78 kB)\n",
      "Downloading filelock-3.12.4-py3-none-any.whl (11 kB)\n",
      "Using cached fsspec-2023.9.0-py3-none-any.whl (173 kB)\n",
      "Using cached requests-2.31.0-py3-none-any.whl (62 kB)\n",
      "Downloading charset_normalizer-3.2.0-cp38-cp38-macosx_11_0_arm64.whl (122 kB)\n",
      "\u001b[2K   \u001b[90m━━━━━━━━━━━━━━━━━━━━━━━━━━━━━━━━━━━━━━━━\u001b[0m \u001b[32m123.0/123.0 kB\u001b[0m \u001b[31m18.2 MB/s\u001b[0m eta \u001b[36m0:00:00\u001b[0m\n",
      "\u001b[?25hUsing cached urllib3-2.0.4-py3-none-any.whl (123 kB)\n",
      "Building wheels for collected packages: pyyaml\n",
      "  Building wheel for pyyaml (pyproject.toml) ... \u001b[?25ldone\n",
      "\u001b[?25h  Created wheel for pyyaml: filename=PyYAML-6.0.1-cp38-cp38-macosx_11_0_arm64.whl size=45364 sha256=f75d8bc8757c6483f3ef44594654facbb0d9c78f85cb45ca9740c0e43359e187\n",
      "  Stored in directory: /Users/huyknguyen/Library/Caches/pip/wheels/77/54/77/68b3079bd1d88cb070513c3935d9f7e32c70ad69368375308d\n",
      "Successfully built pyyaml\n",
      "Installing collected packages: urllib3, tqdm, sniffio, pyyaml, pydantic-core, idna, h11, fsspec, filelock, exceptiongroup, distro, charset-normalizer, certifi, annotated-types, requests, pydantic, anyio, huggingface_hub, httpcore, tokenizers, httpx, anthropic\n",
      "Successfully installed annotated-types-0.5.0 anthropic-0.3.11 anyio-3.7.1 certifi-2023.7.22 charset-normalizer-3.2.0 distro-1.8.0 exceptiongroup-1.1.3 filelock-3.12.4 fsspec-2023.9.0 h11-0.14.0 httpcore-0.18.0 httpx-0.25.0 huggingface_hub-0.16.4 idna-3.4 pydantic-2.3.0 pydantic-core-2.6.3 pyyaml-6.0.1 requests-2.31.0 sniffio-1.3.0 tokenizers-0.14.0 tqdm-4.66.1 urllib3-2.0.4\n"
     ]
    }
   ],
   "source": [
    "!pip install anthropic"
   ]
  },
  {
   "cell_type": "code",
   "execution_count": 5,
   "metadata": {},
   "outputs": [
    {
     "data": {
      "text/plain": [
       "\" Here are the two summarized versions of the pulmonologist visit note:\\n\\nDoctor Version:\\n- Patient denies dyspnea at rest. \\n- Patient experiences orthopnea at night when supine. \\n- Orthopnea improves when sitting up.\\n- Patient denies edema.  \\n- Patient denies chest pain or palpitations.\\n- Patient experiences wheezing with expiration.\\n\\nPatient Version:\\n- You don't have trouble breathing during the day.\\n- You have trouble breathing when lying down at night.\\n- Sitting up makes your breathing easier at night.\\n- Your ankles are not swollen.\\n- You don't have chest pain or a fast heartbeat.  \\n- You make a wheezing noise when you breathe out.\""
      ]
     },
     "execution_count": 5,
     "metadata": {},
     "output_type": "execute_result"
    }
   ],
   "source": [
    "from anthropic import Anthropic, HUMAN_PROMPT, AI_PROMPT\n",
    "import config\n",
    "anthropic = Anthropic()\n",
    "anthropic.api_key = config.CLAUDE_API_KEY\n",
    "\n",
    "\n",
    "def claude_summary(text):\n",
    "    completion = anthropic.completions.create(\n",
    "        model=\"claude-2.0\", #claude-2.0 #claude-instant-1.2\n",
    "        max_tokens_to_sample=1000,\n",
    "        temperature=0.1,\n",
    "        prompt=f\"\"\"\n",
    "        {HUMAN_PROMPT}Below is a pulmonologist visit note. Summarize it in bullet points in two versions. \n",
    "        The first use medical terminology for pulmonary medicine for doctor notes. \n",
    "        The second one uses simple terms for patient summary. \n",
    "        Only summarize, do not add or remove information:\\n\n",
    "        {text} {AI_PROMPT}:\"\"\",\n",
    "    )\n",
    "    return(completion.completion)\n",
    "\n",
    "text = \"\"\"  Thank you very much. Thank you. Are you having any shortness of breath? No. Yes. And when does that\n",
    " happen? At night when I sleep, lay down. Okay. And when you sit up, do you feel better? Yes. Is the\n",
    "re any swelling in your ankles? No. Yes. Yes. Any chest pain or palpitations? No. Do you ever wheeze\n",
    "? What is that? What are you wheeze? When you make a noise when you breathe out like... Oh. Yes. Oka\n",
    "y.\n",
    "\"\"\"\n",
    "summary = claude_summary(text)\n",
    "print(summary)"
   ]
  },
  {
   "cell_type": "code",
   "execution_count": 6,
   "metadata": {},
   "outputs": [
    {
     "name": "stdout",
     "output_type": "stream",
     "text": [
      " Here are the two summarized versions of the pulmonologist visit note:\n",
      "\n",
      "Doctor Version:\n",
      "- Patient denies dyspnea at rest. \n",
      "- Patient experiences orthopnea at night when supine. \n",
      "- Orthopnea improves when sitting up.\n",
      "- Patient denies edema.  \n",
      "- Patient denies chest pain or palpitations.\n",
      "- Patient experiences wheezing with expiration.\n",
      "\n",
      "Patient Version:\n",
      "- You don't have trouble breathing during the day.\n",
      "- You have trouble breathing when lying down at night.\n",
      "- Sitting up makes your breathing easier at night.\n",
      "- Your ankles are not swollen.\n",
      "- You don't have chest pain or a fast heartbeat.  \n",
      "- You make a wheezing noise when you breathe out.\n"
     ]
    }
   ],
   "source": [
    "print(summary)"
   ]
  }
 ],
 "metadata": {
  "kernelspec": {
   "display_name": "medical",
   "language": "python",
   "name": "python3"
  },
  "language_info": {
   "codemirror_mode": {
    "name": "ipython",
    "version": 3
   },
   "file_extension": ".py",
   "mimetype": "text/x-python",
   "name": "python",
   "nbconvert_exporter": "python",
   "pygments_lexer": "ipython3",
   "version": "3.8.17"
  },
  "orig_nbformat": 4
 },
 "nbformat": 4,
 "nbformat_minor": 2
}
